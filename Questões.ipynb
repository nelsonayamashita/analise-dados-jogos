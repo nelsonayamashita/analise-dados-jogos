{
 "cells": [
  {
   "cell_type": "markdown",
   "metadata": {
    "colab_type": "text",
    "id": "9P_NwARXY6Jf"
   },
   "source": [
    "# Turing Academy \n",
    "\n",
    "## Aula 2: Bibliotecas\n",
    "\n",
    "### Questões"
   ]
  },
  {
   "cell_type": "markdown",
   "metadata": {
    "colab_type": "text",
    "id": "cMCklo3DYX7J"
   },
   "source": [
    "Para começar, importe as bibliotecas necessárias (NumPy, Pandas, Matplotlib e Seaborn) com seus \"apelidos\":"
   ]
  },
  {
   "cell_type": "code",
   "execution_count": 80,
   "metadata": {
    "colab": {},
    "colab_type": "code",
    "id": "QR0ceutKYX7O",
    "scrolled": false
   },
   "outputs": [],
   "source": [
    "import numpy as np\n",
    "import pandas as pd\n",
    "import matplotlib.pyplot as plt\n",
    "import seaborn as sns"
   ]
  },
  {
   "cell_type": "markdown",
   "metadata": {
    "colab_type": "text",
    "id": "cl_AY8QEYX7c"
   },
   "source": [
    "## Pandas: manipulação de dados em *DataFrames*"
   ]
  },
  {
   "cell_type": "markdown",
   "metadata": {
    "colab_type": "text",
    "id": "Af3JzL72YX7h"
   },
   "source": [
    "Nesse notebook, serão utilizados dois arquivos do tipo **csv**, são eles: `jogos_info.csv`, que contém o nome dos jogos e algumas de suas informações — como ano de lançamento e a *publisher* — e `jogos_vendas.csv`, que também contém o nome dos jogos e o número de vendas. Abra cada um dos arquivos em *dataframes* usando Pandas e junte os dois em um só *dataframe*, que será utilizado para as análises e os gráficos."
   ]
  },
  {
   "cell_type": "code",
   "execution_count": 81,
   "metadata": {
    "colab": {},
    "colab_type": "code",
    "id": "2539l3OrYX7l"
   },
   "outputs": [],
   "source": [
    "info = pd.read_csv('jogos_info.csv', index_col=0)\n",
    "vendas = pd.read_csv('jogos_vendas.csv', index_col=0)\n",
    "df = pd.concat([info, vendas], keys='inner', axis=1, ignore_index=True)\n",
    "df.drop(5,axis=1,inplace=True)\n",
    "df.columns = ['Name', 'Platform', 'Year', 'Genre', 'Publisher', 'NA_Sales','EU_Sales', 'JP_Sales', 'Other_Sales']"
   ]
  },
  {
   "cell_type": "markdown",
   "metadata": {
    "colab_type": "text",
    "id": "_9B_wPMQYX8T"
   },
   "source": [
    "Mostre as características do *dataset*: \n",
    "\n",
    "* exiba suas 10 primeiras linhas;\n",
    "* mostre as informações de cada coluna; \n",
    "* descreva as colunas que possuem dados numéricos."
   ]
  },
  {
   "cell_type": "code",
   "execution_count": 82,
   "metadata": {
    "colab": {},
    "colab_type": "code",
    "id": "XbFaJb7qZVMd"
   },
   "outputs": [
    {
     "data": {
      "text/html": [
       "<div>\n",
       "<style scoped>\n",
       "    .dataframe tbody tr th:only-of-type {\n",
       "        vertical-align: middle;\n",
       "    }\n",
       "\n",
       "    .dataframe tbody tr th {\n",
       "        vertical-align: top;\n",
       "    }\n",
       "\n",
       "    .dataframe thead th {\n",
       "        text-align: right;\n",
       "    }\n",
       "</style>\n",
       "<table border=\"1\" class=\"dataframe\">\n",
       "  <thead>\n",
       "    <tr style=\"text-align: right;\">\n",
       "      <th></th>\n",
       "      <th>Name</th>\n",
       "      <th>Platform</th>\n",
       "      <th>Year</th>\n",
       "      <th>Genre</th>\n",
       "      <th>Publisher</th>\n",
       "      <th>NA_Sales</th>\n",
       "      <th>EU_Sales</th>\n",
       "      <th>JP_Sales</th>\n",
       "      <th>Other_Sales</th>\n",
       "    </tr>\n",
       "  </thead>\n",
       "  <tbody>\n",
       "    <tr>\n",
       "      <th>0</th>\n",
       "      <td>Wii Sports</td>\n",
       "      <td>Wii</td>\n",
       "      <td>2006.0</td>\n",
       "      <td>Sports</td>\n",
       "      <td>Nintendo</td>\n",
       "      <td>41.49</td>\n",
       "      <td>29.02</td>\n",
       "      <td>3.77</td>\n",
       "      <td>8.46</td>\n",
       "    </tr>\n",
       "    <tr>\n",
       "      <th>1</th>\n",
       "      <td>Super Mario Bros.</td>\n",
       "      <td>NES</td>\n",
       "      <td>1985.0</td>\n",
       "      <td>Platform</td>\n",
       "      <td>Nintendo</td>\n",
       "      <td>29.08</td>\n",
       "      <td>3.58</td>\n",
       "      <td>6.81</td>\n",
       "      <td>0.77</td>\n",
       "    </tr>\n",
       "    <tr>\n",
       "      <th>2</th>\n",
       "      <td>Mario Kart Wii</td>\n",
       "      <td>Wii</td>\n",
       "      <td>2008.0</td>\n",
       "      <td>Racing</td>\n",
       "      <td>Nintendo</td>\n",
       "      <td>15.85</td>\n",
       "      <td>12.88</td>\n",
       "      <td>3.79</td>\n",
       "      <td>3.31</td>\n",
       "    </tr>\n",
       "    <tr>\n",
       "      <th>3</th>\n",
       "      <td>Wii Sports Resort</td>\n",
       "      <td>Wii</td>\n",
       "      <td>2009.0</td>\n",
       "      <td>Sports</td>\n",
       "      <td>Nintendo</td>\n",
       "      <td>15.75</td>\n",
       "      <td>11.01</td>\n",
       "      <td>3.28</td>\n",
       "      <td>2.96</td>\n",
       "    </tr>\n",
       "    <tr>\n",
       "      <th>4</th>\n",
       "      <td>Pokemon Red/Pokemon Blue</td>\n",
       "      <td>GB</td>\n",
       "      <td>1996.0</td>\n",
       "      <td>Role-Playing</td>\n",
       "      <td>Nintendo</td>\n",
       "      <td>11.27</td>\n",
       "      <td>8.89</td>\n",
       "      <td>10.22</td>\n",
       "      <td>1.00</td>\n",
       "    </tr>\n",
       "    <tr>\n",
       "      <th>5</th>\n",
       "      <td>Tetris</td>\n",
       "      <td>GB</td>\n",
       "      <td>1989.0</td>\n",
       "      <td>Puzzle</td>\n",
       "      <td>Nintendo</td>\n",
       "      <td>23.20</td>\n",
       "      <td>2.26</td>\n",
       "      <td>4.22</td>\n",
       "      <td>0.58</td>\n",
       "    </tr>\n",
       "    <tr>\n",
       "      <th>6</th>\n",
       "      <td>New Super Mario Bros.</td>\n",
       "      <td>DS</td>\n",
       "      <td>2006.0</td>\n",
       "      <td>Platform</td>\n",
       "      <td>Nintendo</td>\n",
       "      <td>11.38</td>\n",
       "      <td>9.23</td>\n",
       "      <td>6.50</td>\n",
       "      <td>2.90</td>\n",
       "    </tr>\n",
       "    <tr>\n",
       "      <th>7</th>\n",
       "      <td>Wii Play</td>\n",
       "      <td>Wii</td>\n",
       "      <td>2006.0</td>\n",
       "      <td>Misc</td>\n",
       "      <td>Nintendo</td>\n",
       "      <td>14.03</td>\n",
       "      <td>9.20</td>\n",
       "      <td>2.93</td>\n",
       "      <td>2.85</td>\n",
       "    </tr>\n",
       "    <tr>\n",
       "      <th>8</th>\n",
       "      <td>New Super Mario Bros. Wii</td>\n",
       "      <td>Wii</td>\n",
       "      <td>2009.0</td>\n",
       "      <td>Platform</td>\n",
       "      <td>Nintendo</td>\n",
       "      <td>14.59</td>\n",
       "      <td>7.06</td>\n",
       "      <td>4.70</td>\n",
       "      <td>2.26</td>\n",
       "    </tr>\n",
       "    <tr>\n",
       "      <th>9</th>\n",
       "      <td>Duck Hunt</td>\n",
       "      <td>NES</td>\n",
       "      <td>1984.0</td>\n",
       "      <td>Shooter</td>\n",
       "      <td>Nintendo</td>\n",
       "      <td>26.93</td>\n",
       "      <td>0.63</td>\n",
       "      <td>0.28</td>\n",
       "      <td>0.47</td>\n",
       "    </tr>\n",
       "  </tbody>\n",
       "</table>\n",
       "</div>"
      ],
      "text/plain": [
       "                        Name Platform    Year         Genre Publisher  \\\n",
       "0                 Wii Sports      Wii  2006.0        Sports  Nintendo   \n",
       "1          Super Mario Bros.      NES  1985.0      Platform  Nintendo   \n",
       "2             Mario Kart Wii      Wii  2008.0        Racing  Nintendo   \n",
       "3          Wii Sports Resort      Wii  2009.0        Sports  Nintendo   \n",
       "4   Pokemon Red/Pokemon Blue       GB  1996.0  Role-Playing  Nintendo   \n",
       "5                     Tetris       GB  1989.0        Puzzle  Nintendo   \n",
       "6      New Super Mario Bros.       DS  2006.0      Platform  Nintendo   \n",
       "7                   Wii Play      Wii  2006.0          Misc  Nintendo   \n",
       "8  New Super Mario Bros. Wii      Wii  2009.0      Platform  Nintendo   \n",
       "9                  Duck Hunt      NES  1984.0       Shooter  Nintendo   \n",
       "\n",
       "   NA_Sales  EU_Sales  JP_Sales  Other_Sales  \n",
       "0     41.49     29.02      3.77         8.46  \n",
       "1     29.08      3.58      6.81         0.77  \n",
       "2     15.85     12.88      3.79         3.31  \n",
       "3     15.75     11.01      3.28         2.96  \n",
       "4     11.27      8.89     10.22         1.00  \n",
       "5     23.20      2.26      4.22         0.58  \n",
       "6     11.38      9.23      6.50         2.90  \n",
       "7     14.03      9.20      2.93         2.85  \n",
       "8     14.59      7.06      4.70         2.26  \n",
       "9     26.93      0.63      0.28         0.47  "
      ]
     },
     "execution_count": 82,
     "metadata": {},
     "output_type": "execute_result"
    }
   ],
   "source": [
    "df.head(n=10)"
   ]
  },
  {
   "cell_type": "code",
   "execution_count": 83,
   "metadata": {},
   "outputs": [
    {
     "name": "stdout",
     "output_type": "stream",
     "text": [
      "<class 'pandas.core.frame.DataFrame'>\n",
      "Int64Index: 16598 entries, 0 to 16597\n",
      "Data columns (total 9 columns):\n",
      " #   Column       Non-Null Count  Dtype  \n",
      "---  ------       --------------  -----  \n",
      " 0   Name         16598 non-null  object \n",
      " 1   Platform     16598 non-null  object \n",
      " 2   Year         16327 non-null  float64\n",
      " 3   Genre        16598 non-null  object \n",
      " 4   Publisher    16540 non-null  object \n",
      " 5   NA_Sales     16598 non-null  float64\n",
      " 6   EU_Sales     16598 non-null  float64\n",
      " 7   JP_Sales     16598 non-null  float64\n",
      " 8   Other_Sales  16598 non-null  float64\n",
      "dtypes: float64(5), object(4)\n",
      "memory usage: 1.3+ MB\n"
     ]
    }
   ],
   "source": [
    "df.info()"
   ]
  },
  {
   "cell_type": "code",
   "execution_count": 84,
   "metadata": {},
   "outputs": [
    {
     "data": {
      "text/html": [
       "<div>\n",
       "<style scoped>\n",
       "    .dataframe tbody tr th:only-of-type {\n",
       "        vertical-align: middle;\n",
       "    }\n",
       "\n",
       "    .dataframe tbody tr th {\n",
       "        vertical-align: top;\n",
       "    }\n",
       "\n",
       "    .dataframe thead th {\n",
       "        text-align: right;\n",
       "    }\n",
       "</style>\n",
       "<table border=\"1\" class=\"dataframe\">\n",
       "  <thead>\n",
       "    <tr style=\"text-align: right;\">\n",
       "      <th></th>\n",
       "      <th>Year</th>\n",
       "      <th>NA_Sales</th>\n",
       "      <th>EU_Sales</th>\n",
       "      <th>JP_Sales</th>\n",
       "      <th>Other_Sales</th>\n",
       "    </tr>\n",
       "  </thead>\n",
       "  <tbody>\n",
       "    <tr>\n",
       "      <th>count</th>\n",
       "      <td>16327.000000</td>\n",
       "      <td>16598.000000</td>\n",
       "      <td>16598.000000</td>\n",
       "      <td>16598.000000</td>\n",
       "      <td>16598.000000</td>\n",
       "    </tr>\n",
       "    <tr>\n",
       "      <th>mean</th>\n",
       "      <td>2006.406443</td>\n",
       "      <td>0.264667</td>\n",
       "      <td>0.146652</td>\n",
       "      <td>0.077782</td>\n",
       "      <td>0.048063</td>\n",
       "    </tr>\n",
       "    <tr>\n",
       "      <th>std</th>\n",
       "      <td>5.828981</td>\n",
       "      <td>0.816683</td>\n",
       "      <td>0.505351</td>\n",
       "      <td>0.309291</td>\n",
       "      <td>0.188588</td>\n",
       "    </tr>\n",
       "    <tr>\n",
       "      <th>min</th>\n",
       "      <td>1980.000000</td>\n",
       "      <td>0.000000</td>\n",
       "      <td>0.000000</td>\n",
       "      <td>0.000000</td>\n",
       "      <td>0.000000</td>\n",
       "    </tr>\n",
       "    <tr>\n",
       "      <th>25%</th>\n",
       "      <td>2003.000000</td>\n",
       "      <td>0.000000</td>\n",
       "      <td>0.000000</td>\n",
       "      <td>0.000000</td>\n",
       "      <td>0.000000</td>\n",
       "    </tr>\n",
       "    <tr>\n",
       "      <th>50%</th>\n",
       "      <td>2007.000000</td>\n",
       "      <td>0.080000</td>\n",
       "      <td>0.020000</td>\n",
       "      <td>0.000000</td>\n",
       "      <td>0.010000</td>\n",
       "    </tr>\n",
       "    <tr>\n",
       "      <th>75%</th>\n",
       "      <td>2010.000000</td>\n",
       "      <td>0.240000</td>\n",
       "      <td>0.110000</td>\n",
       "      <td>0.040000</td>\n",
       "      <td>0.040000</td>\n",
       "    </tr>\n",
       "    <tr>\n",
       "      <th>max</th>\n",
       "      <td>2020.000000</td>\n",
       "      <td>41.490000</td>\n",
       "      <td>29.020000</td>\n",
       "      <td>10.220000</td>\n",
       "      <td>10.570000</td>\n",
       "    </tr>\n",
       "  </tbody>\n",
       "</table>\n",
       "</div>"
      ],
      "text/plain": [
       "               Year      NA_Sales      EU_Sales      JP_Sales   Other_Sales\n",
       "count  16327.000000  16598.000000  16598.000000  16598.000000  16598.000000\n",
       "mean    2006.406443      0.264667      0.146652      0.077782      0.048063\n",
       "std        5.828981      0.816683      0.505351      0.309291      0.188588\n",
       "min     1980.000000      0.000000      0.000000      0.000000      0.000000\n",
       "25%     2003.000000      0.000000      0.000000      0.000000      0.000000\n",
       "50%     2007.000000      0.080000      0.020000      0.000000      0.010000\n",
       "75%     2010.000000      0.240000      0.110000      0.040000      0.040000\n",
       "max     2020.000000     41.490000     29.020000     10.220000     10.570000"
      ]
     },
     "execution_count": 84,
     "metadata": {},
     "output_type": "execute_result"
    }
   ],
   "source": [
    "df.describe()"
   ]
  },
  {
   "cell_type": "markdown",
   "metadata": {
    "colab_type": "text",
    "id": "_eS4CR_6YX9P"
   },
   "source": [
    "Remova as linhas que possuem dados faltantes"
   ]
  },
  {
   "cell_type": "code",
   "execution_count": 85,
   "metadata": {
    "colab": {},
    "colab_type": "code",
    "id": "iLUQLfQbZWzK"
   },
   "outputs": [
    {
     "data": {
      "text/html": [
       "<div>\n",
       "<style scoped>\n",
       "    .dataframe tbody tr th:only-of-type {\n",
       "        vertical-align: middle;\n",
       "    }\n",
       "\n",
       "    .dataframe tbody tr th {\n",
       "        vertical-align: top;\n",
       "    }\n",
       "\n",
       "    .dataframe thead th {\n",
       "        text-align: right;\n",
       "    }\n",
       "</style>\n",
       "<table border=\"1\" class=\"dataframe\">\n",
       "  <thead>\n",
       "    <tr style=\"text-align: right;\">\n",
       "      <th></th>\n",
       "      <th>Name</th>\n",
       "      <th>Platform</th>\n",
       "      <th>Year</th>\n",
       "      <th>Genre</th>\n",
       "      <th>Publisher</th>\n",
       "      <th>NA_Sales</th>\n",
       "      <th>EU_Sales</th>\n",
       "      <th>JP_Sales</th>\n",
       "      <th>Other_Sales</th>\n",
       "    </tr>\n",
       "  </thead>\n",
       "  <tbody>\n",
       "    <tr>\n",
       "      <th>0</th>\n",
       "      <td>Wii Sports</td>\n",
       "      <td>Wii</td>\n",
       "      <td>2006.0</td>\n",
       "      <td>Sports</td>\n",
       "      <td>Nintendo</td>\n",
       "      <td>41.49</td>\n",
       "      <td>29.02</td>\n",
       "      <td>3.77</td>\n",
       "      <td>8.46</td>\n",
       "    </tr>\n",
       "    <tr>\n",
       "      <th>1</th>\n",
       "      <td>Super Mario Bros.</td>\n",
       "      <td>NES</td>\n",
       "      <td>1985.0</td>\n",
       "      <td>Platform</td>\n",
       "      <td>Nintendo</td>\n",
       "      <td>29.08</td>\n",
       "      <td>3.58</td>\n",
       "      <td>6.81</td>\n",
       "      <td>0.77</td>\n",
       "    </tr>\n",
       "    <tr>\n",
       "      <th>2</th>\n",
       "      <td>Mario Kart Wii</td>\n",
       "      <td>Wii</td>\n",
       "      <td>2008.0</td>\n",
       "      <td>Racing</td>\n",
       "      <td>Nintendo</td>\n",
       "      <td>15.85</td>\n",
       "      <td>12.88</td>\n",
       "      <td>3.79</td>\n",
       "      <td>3.31</td>\n",
       "    </tr>\n",
       "    <tr>\n",
       "      <th>3</th>\n",
       "      <td>Wii Sports Resort</td>\n",
       "      <td>Wii</td>\n",
       "      <td>2009.0</td>\n",
       "      <td>Sports</td>\n",
       "      <td>Nintendo</td>\n",
       "      <td>15.75</td>\n",
       "      <td>11.01</td>\n",
       "      <td>3.28</td>\n",
       "      <td>2.96</td>\n",
       "    </tr>\n",
       "    <tr>\n",
       "      <th>4</th>\n",
       "      <td>Pokemon Red/Pokemon Blue</td>\n",
       "      <td>GB</td>\n",
       "      <td>1996.0</td>\n",
       "      <td>Role-Playing</td>\n",
       "      <td>Nintendo</td>\n",
       "      <td>11.27</td>\n",
       "      <td>8.89</td>\n",
       "      <td>10.22</td>\n",
       "      <td>1.00</td>\n",
       "    </tr>\n",
       "  </tbody>\n",
       "</table>\n",
       "</div>"
      ],
      "text/plain": [
       "                       Name Platform    Year         Genre Publisher  \\\n",
       "0                Wii Sports      Wii  2006.0        Sports  Nintendo   \n",
       "1         Super Mario Bros.      NES  1985.0      Platform  Nintendo   \n",
       "2            Mario Kart Wii      Wii  2008.0        Racing  Nintendo   \n",
       "3         Wii Sports Resort      Wii  2009.0        Sports  Nintendo   \n",
       "4  Pokemon Red/Pokemon Blue       GB  1996.0  Role-Playing  Nintendo   \n",
       "\n",
       "   NA_Sales  EU_Sales  JP_Sales  Other_Sales  \n",
       "0     41.49     29.02      3.77         8.46  \n",
       "1     29.08      3.58      6.81         0.77  \n",
       "2     15.85     12.88      3.79         3.31  \n",
       "3     15.75     11.01      3.28         2.96  \n",
       "4     11.27      8.89     10.22         1.00  "
      ]
     },
     "execution_count": 85,
     "metadata": {},
     "output_type": "execute_result"
    }
   ],
   "source": [
    "df.dropna()\n",
    "df.head()"
   ]
  },
  {
   "cell_type": "markdown",
   "metadata": {
    "colab_type": "text",
    "id": "Gcq3oPacYX9f"
   },
   "source": [
    "Agora, crie no *dataframe* uma coluna que forneça o número de vendas totais, chamada `'Global_Sales'`."
   ]
  },
  {
   "cell_type": "code",
   "execution_count": 104,
   "metadata": {
    "colab": {},
    "colab_type": "code",
    "id": "DuuL21L4YX9i"
   },
   "outputs": [],
   "source": [
    "df['Global_Sales'] = df['NA_Sales'] + df['EU_Sales'] + df['JP_Sales'] + df['Other_Sales']"
   ]
  },
  {
   "cell_type": "markdown",
   "metadata": {
    "colab_type": "text",
    "id": "1yIALNUUYX9z"
   },
   "source": [
    "Crie um *dataframe* que contenha os jogos disponíveis para o NES. Mostre a média de vendas globais, o jogo mais popular da plataforma e o menos popular também."
   ]
  },
  {
   "cell_type": "code",
   "execution_count": 105,
   "metadata": {
    "colab": {},
    "colab_type": "code",
    "id": "4txxOYHlZZ06"
   },
   "outputs": [],
   "source": [
    "nes_df = df[df[\"Platform\"] == 'NES']"
   ]
  },
  {
   "cell_type": "code",
   "execution_count": 106,
   "metadata": {},
   "outputs": [
    {
     "data": {
      "text/plain": [
       "2.56173469387755"
      ]
     },
     "execution_count": 106,
     "metadata": {},
     "output_type": "execute_result"
    }
   ],
   "source": [
    "nes_df['Global_Sales'].mean()"
   ]
  },
  {
   "cell_type": "code",
   "execution_count": 108,
   "metadata": {},
   "outputs": [
    {
     "data": {
      "text/html": [
       "<div>\n",
       "<style scoped>\n",
       "    .dataframe tbody tr th:only-of-type {\n",
       "        vertical-align: middle;\n",
       "    }\n",
       "\n",
       "    .dataframe tbody tr th {\n",
       "        vertical-align: top;\n",
       "    }\n",
       "\n",
       "    .dataframe thead th {\n",
       "        text-align: right;\n",
       "    }\n",
       "</style>\n",
       "<table border=\"1\" class=\"dataframe\">\n",
       "  <thead>\n",
       "    <tr style=\"text-align: right;\">\n",
       "      <th></th>\n",
       "      <th>Name</th>\n",
       "      <th>Platform</th>\n",
       "      <th>Year</th>\n",
       "      <th>Genre</th>\n",
       "      <th>Publisher</th>\n",
       "      <th>NA_Sales</th>\n",
       "      <th>EU_Sales</th>\n",
       "      <th>JP_Sales</th>\n",
       "      <th>Other_Sales</th>\n",
       "      <th>Global_Sales</th>\n",
       "    </tr>\n",
       "  </thead>\n",
       "  <tbody>\n",
       "    <tr>\n",
       "      <th>1</th>\n",
       "      <td>Super Mario Bros.</td>\n",
       "      <td>NES</td>\n",
       "      <td>1985.0</td>\n",
       "      <td>Platform</td>\n",
       "      <td>Nintendo</td>\n",
       "      <td>29.08</td>\n",
       "      <td>3.58</td>\n",
       "      <td>6.81</td>\n",
       "      <td>0.77</td>\n",
       "      <td>40.24</td>\n",
       "    </tr>\n",
       "  </tbody>\n",
       "</table>\n",
       "</div>"
      ],
      "text/plain": [
       "                Name Platform    Year     Genre Publisher  NA_Sales  EU_Sales  \\\n",
       "1  Super Mario Bros.      NES  1985.0  Platform  Nintendo     29.08      3.58   \n",
       "\n",
       "   JP_Sales  Other_Sales  Global_Sales  \n",
       "1      6.81         0.77         40.24  "
      ]
     },
     "execution_count": 108,
     "metadata": {},
     "output_type": "execute_result"
    }
   ],
   "source": [
    "nes_df[nes_df['Global_Sales'] == nes_df['Global_Sales'].max()]"
   ]
  },
  {
   "cell_type": "code",
   "execution_count": 109,
   "metadata": {},
   "outputs": [
    {
     "data": {
      "text/html": [
       "<div>\n",
       "<style scoped>\n",
       "    .dataframe tbody tr th:only-of-type {\n",
       "        vertical-align: middle;\n",
       "    }\n",
       "\n",
       "    .dataframe tbody tr th {\n",
       "        vertical-align: top;\n",
       "    }\n",
       "\n",
       "    .dataframe thead th {\n",
       "        text-align: right;\n",
       "    }\n",
       "</style>\n",
       "<table border=\"1\" class=\"dataframe\">\n",
       "  <thead>\n",
       "    <tr style=\"text-align: right;\">\n",
       "      <th></th>\n",
       "      <th>Name</th>\n",
       "      <th>Platform</th>\n",
       "      <th>Year</th>\n",
       "      <th>Genre</th>\n",
       "      <th>Publisher</th>\n",
       "      <th>NA_Sales</th>\n",
       "      <th>EU_Sales</th>\n",
       "      <th>JP_Sales</th>\n",
       "      <th>Other_Sales</th>\n",
       "      <th>Global_Sales</th>\n",
       "    </tr>\n",
       "  </thead>\n",
       "  <tbody>\n",
       "    <tr>\n",
       "      <th>12636</th>\n",
       "      <td>Adventures of Lolo</td>\n",
       "      <td>NES</td>\n",
       "      <td>1989.0</td>\n",
       "      <td>Puzzle</td>\n",
       "      <td>HAL Laboratory</td>\n",
       "      <td>0.06</td>\n",
       "      <td>0.0</td>\n",
       "      <td>0.0</td>\n",
       "      <td>0.0</td>\n",
       "      <td>0.06</td>\n",
       "    </tr>\n",
       "  </tbody>\n",
       "</table>\n",
       "</div>"
      ],
      "text/plain": [
       "                     Name Platform    Year   Genre       Publisher  NA_Sales  \\\n",
       "12636  Adventures of Lolo      NES  1989.0  Puzzle  HAL Laboratory      0.06   \n",
       "\n",
       "       EU_Sales  JP_Sales  Other_Sales  Global_Sales  \n",
       "12636       0.0       0.0          0.0          0.06  "
      ]
     },
     "execution_count": 109,
     "metadata": {},
     "output_type": "execute_result"
    }
   ],
   "source": [
    "nes_df[nes_df['Global_Sales'] == nes_df['Global_Sales'].min()]"
   ]
  },
  {
   "cell_type": "markdown",
   "metadata": {
    "colab_type": "text",
    "id": "6WrsxNYWYX9_"
   },
   "source": [
    "No *dataframe* original, encontre:\n",
    "\n",
    "* o jogo mais popular do primeiro ano presente nos dados;\n",
    "* o jogo mais popular do último ano também presente nos dados.\n",
    "\n",
    "Além disso, mostre todas as informações disponíveis no *dataframe* para cada um dos jogos acima."
   ]
  },
  {
   "cell_type": "code",
   "execution_count": 122,
   "metadata": {},
   "outputs": [],
   "source": [
    "ano_min = df['Year'].min()\n",
    "ano_max = df['Year'].max()"
   ]
  },
  {
   "cell_type": "code",
   "execution_count": 123,
   "metadata": {},
   "outputs": [],
   "source": [
    "df_min = df[df['Year'] == ano_min]\n",
    "df_max = df[df['Year'] == ano_max]"
   ]
  },
  {
   "cell_type": "code",
   "execution_count": 124,
   "metadata": {},
   "outputs": [
    {
     "data": {
      "text/html": [
       "<div>\n",
       "<style scoped>\n",
       "    .dataframe tbody tr th:only-of-type {\n",
       "        vertical-align: middle;\n",
       "    }\n",
       "\n",
       "    .dataframe tbody tr th {\n",
       "        vertical-align: top;\n",
       "    }\n",
       "\n",
       "    .dataframe thead th {\n",
       "        text-align: right;\n",
       "    }\n",
       "</style>\n",
       "<table border=\"1\" class=\"dataframe\">\n",
       "  <thead>\n",
       "    <tr style=\"text-align: right;\">\n",
       "      <th></th>\n",
       "      <th>Name</th>\n",
       "      <th>Platform</th>\n",
       "      <th>Year</th>\n",
       "      <th>Genre</th>\n",
       "      <th>Publisher</th>\n",
       "      <th>NA_Sales</th>\n",
       "      <th>EU_Sales</th>\n",
       "      <th>JP_Sales</th>\n",
       "      <th>Other_Sales</th>\n",
       "      <th>Global_Sales</th>\n",
       "    </tr>\n",
       "  </thead>\n",
       "  <tbody>\n",
       "    <tr>\n",
       "      <th>258</th>\n",
       "      <td>Asteroids</td>\n",
       "      <td>2600</td>\n",
       "      <td>1980.0</td>\n",
       "      <td>Shooter</td>\n",
       "      <td>Atari</td>\n",
       "      <td>4.0</td>\n",
       "      <td>0.26</td>\n",
       "      <td>0.0</td>\n",
       "      <td>0.05</td>\n",
       "      <td>4.31</td>\n",
       "    </tr>\n",
       "  </tbody>\n",
       "</table>\n",
       "</div>"
      ],
      "text/plain": [
       "          Name Platform    Year    Genre Publisher  NA_Sales  EU_Sales  \\\n",
       "258  Asteroids     2600  1980.0  Shooter     Atari       4.0      0.26   \n",
       "\n",
       "     JP_Sales  Other_Sales  Global_Sales  \n",
       "258       0.0         0.05          4.31  "
      ]
     },
     "execution_count": 124,
     "metadata": {},
     "output_type": "execute_result"
    }
   ],
   "source": [
    "df_min[df_min['Global_Sales'] == df_min['Global_Sales'].max()]"
   ]
  },
  {
   "cell_type": "code",
   "execution_count": 127,
   "metadata": {
    "colab": {},
    "colab_type": "code",
    "id": "IgDcAvMtZd3g"
   },
   "outputs": [
    {
     "data": {
      "text/html": [
       "<div>\n",
       "<style scoped>\n",
       "    .dataframe tbody tr th:only-of-type {\n",
       "        vertical-align: middle;\n",
       "    }\n",
       "\n",
       "    .dataframe tbody tr th {\n",
       "        vertical-align: top;\n",
       "    }\n",
       "\n",
       "    .dataframe thead th {\n",
       "        text-align: right;\n",
       "    }\n",
       "</style>\n",
       "<table border=\"1\" class=\"dataframe\">\n",
       "  <thead>\n",
       "    <tr style=\"text-align: right;\">\n",
       "      <th></th>\n",
       "      <th>Name</th>\n",
       "      <th>Platform</th>\n",
       "      <th>Year</th>\n",
       "      <th>Genre</th>\n",
       "      <th>Publisher</th>\n",
       "      <th>NA_Sales</th>\n",
       "      <th>EU_Sales</th>\n",
       "      <th>JP_Sales</th>\n",
       "      <th>Other_Sales</th>\n",
       "      <th>Global_Sales</th>\n",
       "    </tr>\n",
       "  </thead>\n",
       "  <tbody>\n",
       "    <tr>\n",
       "      <th>5957</th>\n",
       "      <td>Imagine: Makeup Artist</td>\n",
       "      <td>DS</td>\n",
       "      <td>2020.0</td>\n",
       "      <td>Simulation</td>\n",
       "      <td>Ubisoft</td>\n",
       "      <td>0.27</td>\n",
       "      <td>0.0</td>\n",
       "      <td>0.0</td>\n",
       "      <td>0.02</td>\n",
       "      <td>0.29</td>\n",
       "    </tr>\n",
       "  </tbody>\n",
       "</table>\n",
       "</div>"
      ],
      "text/plain": [
       "                        Name Platform    Year       Genre Publisher  NA_Sales  \\\n",
       "5957  Imagine: Makeup Artist       DS  2020.0  Simulation   Ubisoft      0.27   \n",
       "\n",
       "      EU_Sales  JP_Sales  Other_Sales  Global_Sales  \n",
       "5957       0.0       0.0         0.02          0.29  "
      ]
     },
     "execution_count": 127,
     "metadata": {},
     "output_type": "execute_result"
    }
   ],
   "source": [
    "df_max[df_max['Global_Sales'] == df_max['Global_Sales'].min()]"
   ]
  },
  {
   "cell_type": "markdown",
   "metadata": {
    "colab_type": "text",
    "id": "VKgulm_nYX-O"
   },
   "source": [
    "Procure seu jogo favorito. Se encontrá-lo, mostre sua linha do *dataframe*:\n"
   ]
  },
  {
   "cell_type": "code",
   "execution_count": 125,
   "metadata": {
    "colab": {},
    "colab_type": "code",
    "id": "dpPWDcFCZfkR"
   },
   "outputs": [
    {
     "data": {
      "text/html": [
       "<div>\n",
       "<style scoped>\n",
       "    .dataframe tbody tr th:only-of-type {\n",
       "        vertical-align: middle;\n",
       "    }\n",
       "\n",
       "    .dataframe tbody tr th {\n",
       "        vertical-align: top;\n",
       "    }\n",
       "\n",
       "    .dataframe thead th {\n",
       "        text-align: right;\n",
       "    }\n",
       "</style>\n",
       "<table border=\"1\" class=\"dataframe\">\n",
       "  <thead>\n",
       "    <tr style=\"text-align: right;\">\n",
       "      <th></th>\n",
       "      <th>Name</th>\n",
       "      <th>Platform</th>\n",
       "      <th>Year</th>\n",
       "      <th>Genre</th>\n",
       "      <th>Publisher</th>\n",
       "      <th>NA_Sales</th>\n",
       "      <th>EU_Sales</th>\n",
       "      <th>JP_Sales</th>\n",
       "      <th>Other_Sales</th>\n",
       "      <th>Global_Sales</th>\n",
       "    </tr>\n",
       "  </thead>\n",
       "  <tbody>\n",
       "    <tr>\n",
       "      <th>30</th>\n",
       "      <td>Pokémon Yellow: Special Pikachu Edition</td>\n",
       "      <td>GB</td>\n",
       "      <td>1998.0</td>\n",
       "      <td>Role-Playing</td>\n",
       "      <td>Nintendo</td>\n",
       "      <td>5.89</td>\n",
       "      <td>5.04</td>\n",
       "      <td>3.12</td>\n",
       "      <td>0.59</td>\n",
       "      <td>14.64</td>\n",
       "    </tr>\n",
       "    <tr>\n",
       "      <th>88</th>\n",
       "      <td>Pokémon Platinum Version</td>\n",
       "      <td>DS</td>\n",
       "      <td>2008.0</td>\n",
       "      <td>Role-Playing</td>\n",
       "      <td>Nintendo</td>\n",
       "      <td>2.82</td>\n",
       "      <td>1.78</td>\n",
       "      <td>2.69</td>\n",
       "      <td>0.55</td>\n",
       "      <td>7.84</td>\n",
       "    </tr>\n",
       "    <tr>\n",
       "      <th>130</th>\n",
       "      <td>Pokémon Emerald Version</td>\n",
       "      <td>GBA</td>\n",
       "      <td>2004.0</td>\n",
       "      <td>Role-Playing</td>\n",
       "      <td>Nintendo</td>\n",
       "      <td>2.57</td>\n",
       "      <td>1.58</td>\n",
       "      <td>2.06</td>\n",
       "      <td>0.21</td>\n",
       "      <td>6.42</td>\n",
       "    </tr>\n",
       "    <tr>\n",
       "      <th>132</th>\n",
       "      <td>Pokémon Crystal Version</td>\n",
       "      <td>GB</td>\n",
       "      <td>2000.0</td>\n",
       "      <td>Role-Playing</td>\n",
       "      <td>Nintendo</td>\n",
       "      <td>2.55</td>\n",
       "      <td>1.56</td>\n",
       "      <td>1.29</td>\n",
       "      <td>0.99</td>\n",
       "      <td>6.39</td>\n",
       "    </tr>\n",
       "    <tr>\n",
       "      <th>335</th>\n",
       "      <td>Pokémon Trading Card Game</td>\n",
       "      <td>GB</td>\n",
       "      <td>1998.0</td>\n",
       "      <td>Strategy</td>\n",
       "      <td>Nintendo</td>\n",
       "      <td>1.49</td>\n",
       "      <td>0.73</td>\n",
       "      <td>1.38</td>\n",
       "      <td>0.10</td>\n",
       "      <td>3.70</td>\n",
       "    </tr>\n",
       "    <tr>\n",
       "      <th>547</th>\n",
       "      <td>Pokémon Stadium 2</td>\n",
       "      <td>N64</td>\n",
       "      <td>2000.0</td>\n",
       "      <td>Strategy</td>\n",
       "      <td>Nintendo</td>\n",
       "      <td>1.02</td>\n",
       "      <td>0.36</td>\n",
       "      <td>1.13</td>\n",
       "      <td>0.23</td>\n",
       "      <td>2.74</td>\n",
       "    </tr>\n",
       "    <tr>\n",
       "      <th>604</th>\n",
       "      <td>Pokémon Colosseum</td>\n",
       "      <td>GC</td>\n",
       "      <td>2003.0</td>\n",
       "      <td>Role-Playing</td>\n",
       "      <td>Nintendo</td>\n",
       "      <td>1.21</td>\n",
       "      <td>0.57</td>\n",
       "      <td>0.70</td>\n",
       "      <td>0.07</td>\n",
       "      <td>2.55</td>\n",
       "    </tr>\n",
       "    <tr>\n",
       "      <th>824</th>\n",
       "      <td>Pokémon Mystery Dungeon: Blue Rescue Team</td>\n",
       "      <td>DS</td>\n",
       "      <td>2005.0</td>\n",
       "      <td>Role-Playing</td>\n",
       "      <td>Nintendo</td>\n",
       "      <td>1.16</td>\n",
       "      <td>0.06</td>\n",
       "      <td>0.83</td>\n",
       "      <td>0.00</td>\n",
       "      <td>2.05</td>\n",
       "    </tr>\n",
       "    <tr>\n",
       "      <th>1814</th>\n",
       "      <td>Pokémon Mystery Dungeon: Red Rescue Team (US w...</td>\n",
       "      <td>GBA</td>\n",
       "      <td>2005.0</td>\n",
       "      <td>Role-Playing</td>\n",
       "      <td>Nintendo</td>\n",
       "      <td>0.81</td>\n",
       "      <td>0.30</td>\n",
       "      <td>0.00</td>\n",
       "      <td>0.02</td>\n",
       "      <td>1.13</td>\n",
       "    </tr>\n",
       "    <tr>\n",
       "      <th>8077</th>\n",
       "      <td>Pokémon I Choose You / Squirtle Squad Game Boy...</td>\n",
       "      <td>GBA</td>\n",
       "      <td>2004.0</td>\n",
       "      <td>Misc</td>\n",
       "      <td>Nintendo</td>\n",
       "      <td>0.13</td>\n",
       "      <td>0.05</td>\n",
       "      <td>0.00</td>\n",
       "      <td>0.00</td>\n",
       "      <td>0.18</td>\n",
       "    </tr>\n",
       "    <tr>\n",
       "      <th>8343</th>\n",
       "      <td>Pokémon Beach Blank-out Blastoise / Go West Yo...</td>\n",
       "      <td>GBA</td>\n",
       "      <td>2004.0</td>\n",
       "      <td>Misc</td>\n",
       "      <td>Nintendo</td>\n",
       "      <td>0.12</td>\n",
       "      <td>0.05</td>\n",
       "      <td>0.00</td>\n",
       "      <td>0.00</td>\n",
       "      <td>0.17</td>\n",
       "    </tr>\n",
       "    <tr>\n",
       "      <th>8848</th>\n",
       "      <td>Pokémon: Johto Photo Finish: Game Boy Advance ...</td>\n",
       "      <td>GBA</td>\n",
       "      <td>2004.0</td>\n",
       "      <td>Misc</td>\n",
       "      <td>NaN</td>\n",
       "      <td>0.11</td>\n",
       "      <td>0.04</td>\n",
       "      <td>0.00</td>\n",
       "      <td>0.00</td>\n",
       "      <td>0.15</td>\n",
       "    </tr>\n",
       "    <tr>\n",
       "      <th>9567</th>\n",
       "      <td>Pokémon: For Ho-Oh the Bells Toll!: Game Boy A...</td>\n",
       "      <td>GBA</td>\n",
       "      <td>2004.0</td>\n",
       "      <td>Misc</td>\n",
       "      <td>Nintendo</td>\n",
       "      <td>0.09</td>\n",
       "      <td>0.03</td>\n",
       "      <td>0.00</td>\n",
       "      <td>0.00</td>\n",
       "      <td>0.12</td>\n",
       "    </tr>\n",
       "  </tbody>\n",
       "</table>\n",
       "</div>"
      ],
      "text/plain": [
       "                                                   Name Platform    Year  \\\n",
       "30              Pokémon Yellow: Special Pikachu Edition       GB  1998.0   \n",
       "88                             Pokémon Platinum Version       DS  2008.0   \n",
       "130                             Pokémon Emerald Version      GBA  2004.0   \n",
       "132                             Pokémon Crystal Version       GB  2000.0   \n",
       "335                           Pokémon Trading Card Game       GB  1998.0   \n",
       "547                                   Pokémon Stadium 2      N64  2000.0   \n",
       "604                                   Pokémon Colosseum       GC  2003.0   \n",
       "824           Pokémon Mystery Dungeon: Blue Rescue Team       DS  2005.0   \n",
       "1814  Pokémon Mystery Dungeon: Red Rescue Team (US w...      GBA  2005.0   \n",
       "8077  Pokémon I Choose You / Squirtle Squad Game Boy...      GBA  2004.0   \n",
       "8343  Pokémon Beach Blank-out Blastoise / Go West Yo...      GBA  2004.0   \n",
       "8848  Pokémon: Johto Photo Finish: Game Boy Advance ...      GBA  2004.0   \n",
       "9567  Pokémon: For Ho-Oh the Bells Toll!: Game Boy A...      GBA  2004.0   \n",
       "\n",
       "             Genre Publisher  NA_Sales  EU_Sales  JP_Sales  Other_Sales  \\\n",
       "30    Role-Playing  Nintendo      5.89      5.04      3.12         0.59   \n",
       "88    Role-Playing  Nintendo      2.82      1.78      2.69         0.55   \n",
       "130   Role-Playing  Nintendo      2.57      1.58      2.06         0.21   \n",
       "132   Role-Playing  Nintendo      2.55      1.56      1.29         0.99   \n",
       "335       Strategy  Nintendo      1.49      0.73      1.38         0.10   \n",
       "547       Strategy  Nintendo      1.02      0.36      1.13         0.23   \n",
       "604   Role-Playing  Nintendo      1.21      0.57      0.70         0.07   \n",
       "824   Role-Playing  Nintendo      1.16      0.06      0.83         0.00   \n",
       "1814  Role-Playing  Nintendo      0.81      0.30      0.00         0.02   \n",
       "8077          Misc  Nintendo      0.13      0.05      0.00         0.00   \n",
       "8343          Misc  Nintendo      0.12      0.05      0.00         0.00   \n",
       "8848          Misc       NaN      0.11      0.04      0.00         0.00   \n",
       "9567          Misc  Nintendo      0.09      0.03      0.00         0.00   \n",
       "\n",
       "      Global_Sales  \n",
       "30           14.64  \n",
       "88            7.84  \n",
       "130           6.42  \n",
       "132           6.39  \n",
       "335           3.70  \n",
       "547           2.74  \n",
       "604           2.55  \n",
       "824           2.05  \n",
       "1814          1.13  \n",
       "8077          0.18  \n",
       "8343          0.17  \n",
       "8848          0.15  \n",
       "9567          0.12  "
      ]
     },
     "execution_count": 125,
     "metadata": {},
     "output_type": "execute_result"
    }
   ],
   "source": [
    "df[df['Name'].str.contains('Pokémon')]"
   ]
  },
  {
   "cell_type": "markdown",
   "metadata": {
    "colab_type": "text",
    "id": "yDq-bl5qYX-l"
   },
   "source": [
    "## Matplotlib e Seaborn: visualização e análise dos dados"
   ]
  },
  {
   "cell_type": "markdown",
   "metadata": {
    "colab_type": "text",
    "id": "P4twH6ivYX-n"
   },
   "source": [
    "Agora, com esse mesmo *dataframe*, vamos visualizar os seus dados e as correlações existentes entre eles — como suas variações ao longo do tempo ou entre países. "
   ]
  },
  {
   "cell_type": "markdown",
   "metadata": {
    "colab_type": "text",
    "id": "HJWCHDWVYX-p"
   },
   "source": [
    "### Gráficos de Linha"
   ]
  },
  {
   "cell_type": "markdown",
   "metadata": {
    "colab_type": "text",
    "id": "QeYu-vXUYX-q"
   },
   "source": [
    "Inicialmente, vamos verificar como se comportaram as vendas globais ao longo das 4 décadas que o dataset cobre. Considerando o fator \"tempo\", é interessante visualizarmos um gráfico de linha.\n",
    "\n",
    "Utilize Seaborn para plotar o gráfico de linha: Vendas globais X Tempo."
   ]
  },
  {
   "cell_type": "code",
   "execution_count": 131,
   "metadata": {
    "colab": {},
    "colab_type": "code",
    "id": "Vv0lyelCZoof"
   },
   "outputs": [
    {
     "data": {
      "image/png": "[encoded data removed]",
      "text/plain": [
       "<Figure size 432x288 with 1 Axes>"
      ]
     },
     "metadata": {
      "needs_background": "light"
     },
     "output_type": "display_data"
    }
   ],
   "source": [
    "sns.lineplot('Year', 'Global_Sales', data=df)\n",
    "plt.show()"
   ]
  },
  {
   "cell_type": "markdown",
   "metadata": {
    "colab_type": "text",
    "id": "8UyCmqk8YX-z"
   },
   "source": [
    "### Plots categóricos"
   ]
  },
  {
   "cell_type": "markdown",
   "metadata": {
    "colab_type": "text",
    "id": "ktfxOrAhYX-0"
   },
   "source": [
    "Agora, vamos verificar o número de vendas por região através de dois gráficos: um gráfico de barras e um gráfico de setores. Para isso, vamos utilizar o jogo **Super Mario Bros.** de 1985.\n",
    "\n",
    "* Utilize Seaborn ou Matplotlib para plotar um gráfico de barras.\n",
    "  * Nele, cada barra deve ser uma região contemplada no dataset (NA, EU, JP e outros) e sua altura fica determinada pela quantidade de vendas.\n",
    "  \n",
    "    \n",
    "* Utilize Matplotlib para plotar um gráfico de setores (*pizza*).\n",
    "  * Nele, cada repartição deve ser uma região contemplada no dataset (NA, EU, JP e outros) e sua área fica determinada pela quantidade relativa de vendas (percentual de vendas).\n",
    "\n",
    "* Não esqueça de melhorar a apresentação do seu gráfico: adicione um título e uma legenda para o eixo y."
   ]
  },
  {
   "cell_type": "markdown",
   "metadata": {
    "colab_type": "text",
    "id": "MQMQRZTMYX-1"
   },
   "source": [
    "***\n",
    "**Dicas:**\n",
    "* Utilizar a Seaborn é um pouco mais intuitivo para o gráfico de barras.\n",
    "* Certifique-se de criar uma legenda para os valores do eixo x — e.g. uma lista com o nome de cada uma das regiões.\n",
    "* Para obter a altura de cada a barra, o método `DataFrame.iloc` é uma boa alternativa.\n",
    "***"
   ]
  },
  {
   "cell_type": "code",
   "execution_count": 140,
   "metadata": {
    "colab": {},
    "colab_type": "code",
    "id": "6h0trvzdZxHX"
   },
   "outputs": [
    {
     "data": {
      "text/plain": [
       "Text(0, 0.5, 'Número de vendas')"
      ]
     },
     "execution_count": 140,
     "metadata": {},
     "output_type": "execute_result"
    },
    {
     "data": {
      "image/png": "[encoded data removed]",
      "text/plain": [
       "<Figure size 432x288 with 1 Axes>"
      ]
     },
     "metadata": {
      "needs_background": "light"
     },
     "output_type": "display_data"
    }
   ],
   "source": [
    "regioes = ['NA', 'EU', 'JP', 'Other']\n",
    "sns.barplot(regioes, df.iloc[1, 5:9])\n",
    "\n",
    "plt.title('Vendas Super Mario Bros')\n",
    "plt.ylabel('Número de vendas')"
   ]
  },
  {
   "cell_type": "markdown",
   "metadata": {
    "colab_type": "text",
    "id": "zISpLmV9YX_L"
   },
   "source": [
    "Sua próxima tarefa: condensar informações. Como os dois gráficos anteriores acabam sendo complementares, exiba ambos em uma mesma figura, lado a lado.\n",
    "\n",
    "Utilize Matplotlib para plotar o gráfico de barras e o gráfico de setores lado a lado, em uma mesma figura."
   ]
  },
  {
   "cell_type": "markdown",
   "metadata": {
    "colab_type": "text",
    "id": "JtWnsabathhe"
   },
   "source": [
    "***\n",
    "**Dicas:**\n",
    "* Utilize `plt.subplot()` para criar vários gráficos em uma mesma figura;\n",
    "\n",
    "* Se achar necessário, aumente o tamanho da figura;\n",
    "\n",
    "* Nos subplots, costuma ser mais intuitivo utilizar apenas gráficos da Matplotlib, mas isso não é necessário;\n",
    "\n",
    "* Quando utilizamos *subplots*, alguns comandos (como de título e legenda) passam a ser precedidos por `set_`.\n",
    "  * Isto é: `plt.ylabel()` transforma-se em `ax.set_ylabel()`; sendo `ax` a variável que armazena um determinado *subplot*.\n",
    "***"
   ]
  },
  {
   "cell_type": "code",
   "execution_count": 154,
   "metadata": {
    "colab": {},
    "colab_type": "code",
    "id": "so80SV6UZzdR"
   },
   "outputs": [
    {
     "data": {
      "text/plain": [
       "([<matplotlib.patches.Wedge at 0x47fadea408>,\n",
       "  <matplotlib.patches.Wedge at 0x47fad67108>,\n",
       "  <matplotlib.patches.Wedge at 0x47fa3a8e88>,\n",
       "  <matplotlib.patches.Wedge at 0x47fa318808>],\n",
       " [Text(-0.7082351860460256, 0.8416667518955181, 'NA'),\n",
       "  Text(0.11828309184563464, -1.0936220143099888, 'EU'),\n",
       "  Text(0.8744282691697882, -0.6673643697986344, 'JP'),\n",
       "  Text(1.0980129925724358, -0.06608682275707053, 'Other')])"
      ]
     },
     "execution_count": 154,
     "metadata": {},
     "output_type": "execute_result"
    },
    {
     "data": {
      "image/png": "[encoded data removed]",
      "text/plain": [
       "<Figure size 1080x576 with 2 Axes>"
      ]
     },
     "metadata": {
      "needs_background": "light"
     },
     "output_type": "display_data"
    }
   ],
   "source": [
    "plt.figure(figsize=(15, 8))\n",
    "ax1 = plt.subplot(1,2,1)\n",
    "ax2 = plt.subplot(1,2,2)\n",
    "\n",
    "ax1.bar(regioes, df.iloc[1, 5:9], color = ['green', 'blue', 'orange', 'purple'])\n",
    "ax2.pie(df.iloc[1, 5:9], labels=regioes)"
   ]
  },
  {
   "cell_type": "markdown",
   "metadata": {
    "colab_type": "text",
    "id": "GxzAJAHTYX_T"
   },
   "source": [
    "### Plots Estatísticos"
   ]
  },
  {
   "cell_type": "markdown",
   "metadata": {
    "colab_type": "text",
    "id": "pOAegcSIYX_U"
   },
   "source": [
    "Utilizando Matplotlib, faça um histograma do número de vendas para `JP_Sales`:"
   ]
  },
  {
   "cell_type": "code",
   "execution_count": 155,
   "metadata": {
    "colab": {},
    "colab_type": "code",
    "id": "19mujzENZ4qI"
   },
   "outputs": [
    {
     "data": {
      "text/plain": [
       "(array([1.6364e+04, 1.5400e+02, 4.0000e+01, 2.0000e+01, 1.1000e+01,\n",
       "        5.0000e+00, 2.0000e+00, 1.0000e+00, 0.0000e+00, 1.0000e+00]),\n",
       " array([ 0.   ,  1.022,  2.044,  3.066,  4.088,  5.11 ,  6.132,  7.154,\n",
       "         8.176,  9.198, 10.22 ]),\n",
       " <a list of 10 Patch objects>)"
      ]
     },
     "execution_count": 155,
     "metadata": {},
     "output_type": "execute_result"
    },
    {
     "data": {
      "image/png": "[encoded data removed]",
      "text/plain": [
       "<Figure size 432x288 with 1 Axes>"
      ]
     },
     "metadata": {
      "needs_background": "light"
     },
     "output_type": "display_data"
    }
   ],
   "source": [
    "plt.hist(df['JP_Sales'])"
   ]
  },
  {
   "cell_type": "markdown",
   "metadata": {
    "colab_type": "text",
    "id": "JHX1a--rYX_h"
   },
   "source": [
    "Percebemos então uma grande concentração dos dados. Para ajudar a explicar esse fato, mostre a porcentagem de jogos que passaram de 1 milhão de vendas."
   ]
  },
  {
   "cell_type": "code",
   "execution_count": 164,
   "metadata": {
    "colab": {},
    "colab_type": "code",
    "id": "KoghHCSZZ6dI"
   },
   "outputs": [
    {
     "name": "stdout",
     "output_type": "stream",
     "text": [
      "5.48259%\n"
     ]
    }
   ],
   "source": [
    "milhao = len(df[df['NA_Sales'] >= 1])/len(df[\"NA_Sales\"])\n",
    "\n",
    "print(round(milhao*100, 5), '%', sep='')"
   ]
  },
  {
   "cell_type": "markdown",
   "metadata": {
    "colab_type": "text",
    "id": "H9N5-ElrYX_t"
   },
   "source": [
    "Então, para dar mais utilidade aos gráficos, devemos agora recortar nosso *dataset*. Reutilizando os conceitos de *slicing* do NumPy, crie, por meio dos operadores lógicos dessa biblioteca, um **novo *dataframe*** que satisfaça as seguintes condições:\n",
    "  * `NA_Sales < 1`\n",
    "  * `EU_Sales < 0.1`"
   ]
  },
  {
   "cell_type": "markdown",
   "metadata": {
    "colab_type": "text",
    "id": "PX4LizcGl3WO"
   },
   "source": [
    "***\n",
    "**Dica:**\n",
    "* O NumPy introduz funções que atuam como os operadores lógicos (`and`, `or` e outros), mas que são mais abrangentes.\n",
    "***"
   ]
  },
  {
   "cell_type": "code",
   "execution_count": 170,
   "metadata": {
    "colab": {},
    "colab_type": "code",
    "id": "-94K8UE5Z8vg"
   },
   "outputs": [],
   "source": [
    "df2 = df[(df['NA_Sales'] < 1) & (df[\"EU_Sales\"] < 0.1)]"
   ]
  },
  {
   "cell_type": "markdown",
   "metadata": {
    "colab_type": "text",
    "id": "CfTOnO7rYX_8"
   },
   "source": [
    "Finalmente, vamos voltar a olhar para a distribuição dos dados. Considerando esse novo dataset, exiba as curvas de distribuição de densidades para as vendas na América do Norte.\n",
    "\n",
    "Utilize Seaborn para plotar a curva de distribuição de densidades (isto é, o \"histograma suavizado\") para as vendas."
   ]
  },
  {
   "cell_type": "code",
   "execution_count": 171,
   "metadata": {
    "colab": {},
    "colab_type": "code",
    "id": "e3GwrdsyaBVJ"
   },
   "outputs": [
    {
     "data": {
      "text/html": [
       "<div>\n",
       "<style scoped>\n",
       "    .dataframe tbody tr th:only-of-type {\n",
       "        vertical-align: middle;\n",
       "    }\n",
       "\n",
       "    .dataframe tbody tr th {\n",
       "        vertical-align: top;\n",
       "    }\n",
       "\n",
       "    .dataframe thead th {\n",
       "        text-align: right;\n",
       "    }\n",
       "</style>\n",
       "<table border=\"1\" class=\"dataframe\">\n",
       "  <thead>\n",
       "    <tr style=\"text-align: right;\">\n",
       "      <th></th>\n",
       "      <th>Year</th>\n",
       "      <th>NA_Sales</th>\n",
       "      <th>EU_Sales</th>\n",
       "      <th>JP_Sales</th>\n",
       "      <th>Other_Sales</th>\n",
       "      <th>Global_Sales</th>\n",
       "    </tr>\n",
       "  </thead>\n",
       "  <tbody>\n",
       "    <tr>\n",
       "      <th>count</th>\n",
       "      <td>11765.000000</td>\n",
       "      <td>11965.000000</td>\n",
       "      <td>11965.000000</td>\n",
       "      <td>11965.000000</td>\n",
       "      <td>11965.000000</td>\n",
       "      <td>11965.000000</td>\n",
       "    </tr>\n",
       "    <tr>\n",
       "      <th>mean</th>\n",
       "      <td>2006.417765</td>\n",
       "      <td>0.083501</td>\n",
       "      <td>0.018351</td>\n",
       "      <td>0.056154</td>\n",
       "      <td>0.011828</td>\n",
       "      <td>0.169834</td>\n",
       "    </tr>\n",
       "    <tr>\n",
       "      <th>std</th>\n",
       "      <td>5.756962</td>\n",
       "      <td>0.132297</td>\n",
       "      <td>0.024378</td>\n",
       "      <td>0.183677</td>\n",
       "      <td>0.061474</td>\n",
       "      <td>0.240402</td>\n",
       "    </tr>\n",
       "    <tr>\n",
       "      <th>min</th>\n",
       "      <td>1980.000000</td>\n",
       "      <td>0.000000</td>\n",
       "      <td>0.000000</td>\n",
       "      <td>0.000000</td>\n",
       "      <td>0.000000</td>\n",
       "      <td>0.000000</td>\n",
       "    </tr>\n",
       "    <tr>\n",
       "      <th>25%</th>\n",
       "      <td>2003.000000</td>\n",
       "      <td>0.000000</td>\n",
       "      <td>0.000000</td>\n",
       "      <td>0.000000</td>\n",
       "      <td>0.000000</td>\n",
       "      <td>0.040000</td>\n",
       "    </tr>\n",
       "    <tr>\n",
       "      <th>50%</th>\n",
       "      <td>2007.000000</td>\n",
       "      <td>0.040000</td>\n",
       "      <td>0.010000</td>\n",
       "      <td>0.000000</td>\n",
       "      <td>0.000000</td>\n",
       "      <td>0.100000</td>\n",
       "    </tr>\n",
       "    <tr>\n",
       "      <th>75%</th>\n",
       "      <td>2010.000000</td>\n",
       "      <td>0.110000</td>\n",
       "      <td>0.030000</td>\n",
       "      <td>0.040000</td>\n",
       "      <td>0.010000</td>\n",
       "      <td>0.210000</td>\n",
       "    </tr>\n",
       "    <tr>\n",
       "      <th>max</th>\n",
       "      <td>2020.000000</td>\n",
       "      <td>0.990000</td>\n",
       "      <td>0.090000</td>\n",
       "      <td>4.870000</td>\n",
       "      <td>2.930000</td>\n",
       "      <td>4.870000</td>\n",
       "    </tr>\n",
       "  </tbody>\n",
       "</table>\n",
       "</div>"
      ],
      "text/plain": [
       "               Year      NA_Sales      EU_Sales      JP_Sales   Other_Sales  \\\n",
       "count  11765.000000  11965.000000  11965.000000  11965.000000  11965.000000   \n",
       "mean    2006.417765      0.083501      0.018351      0.056154      0.011828   \n",
       "std        5.756962      0.132297      0.024378      0.183677      0.061474   \n",
       "min     1980.000000      0.000000      0.000000      0.000000      0.000000   \n",
       "25%     2003.000000      0.000000      0.000000      0.000000      0.000000   \n",
       "50%     2007.000000      0.040000      0.010000      0.000000      0.000000   \n",
       "75%     2010.000000      0.110000      0.030000      0.040000      0.010000   \n",
       "max     2020.000000      0.990000      0.090000      4.870000      2.930000   \n",
       "\n",
       "       Global_Sales  \n",
       "count  11965.000000  \n",
       "mean       0.169834  \n",
       "std        0.240402  \n",
       "min        0.000000  \n",
       "25%        0.040000  \n",
       "50%        0.100000  \n",
       "75%        0.210000  \n",
       "max        4.870000  "
      ]
     },
     "execution_count": 171,
     "metadata": {},
     "output_type": "execute_result"
    }
   ],
   "source": [
    "df2.describe()"
   ]
  },
  {
   "cell_type": "markdown",
   "metadata": {
    "colab_type": "text",
    "id": "8g9cfMehYYAE"
   },
   "source": [
    "Com esse mesmo dataset, podemos verificar uma outra forma de visualizar dados: *boxplot*. Esse plot existe tanto na biblioteca Matplotlib quanto na Seaborn, ficando a sua escolha qual utilizar."
   ]
  },
  {
   "cell_type": "code",
   "execution_count": 174,
   "metadata": {
    "colab": {},
    "colab_type": "code",
    "id": "UJsRXF2daEr2"
   },
   "outputs": [
    {
     "data": {
      "text/plain": [
       "<matplotlib.axes._subplots.AxesSubplot at 0x47fcd000c8>"
      ]
     },
     "execution_count": 174,
     "metadata": {},
     "output_type": "execute_result"
    },
    {
     "data": {
      "image/png": "[encoded data removed]",
      "text/plain": [
       "<Figure size 432x288 with 1 Axes>"
      ]
     },
     "metadata": {
      "needs_background": "light"
     },
     "output_type": "display_data"
    }
   ],
   "source": [
    "sns.distplot(df2['NA_Sales'])"
   ]
  },
  {
   "cell_type": "code",
   "execution_count": 175,
   "metadata": {},
   "outputs": [
    {
     "data": {
      "text/plain": [
       "<matplotlib.axes._subplots.AxesSubplot at 0x47fcd00748>"
      ]
     },
     "execution_count": 175,
     "metadata": {},
     "output_type": "execute_result"
    },
    {
     "data": {
      "image/png": "[encoded data removed]",
      "text/plain": [
       "<Figure size 432x288 with 1 Axes>"
      ]
     },
     "metadata": {
      "needs_background": "light"
     },
     "output_type": "display_data"
    }
   ],
   "source": [
    "sns.kdeplot(df2['NA_Sales'])"
   ]
  },
  {
   "cell_type": "code",
   "execution_count": 177,
   "metadata": {},
   "outputs": [
    {
     "data": {
      "text/plain": [
       "<matplotlib.axes._subplots.AxesSubplot at 0x47fcee0d88>"
      ]
     },
     "execution_count": 177,
     "metadata": {},
     "output_type": "execute_result"
    },
    {
     "data": {
      "image/png": "[encoded data removed]",
      "text/plain": [
       "<Figure size 432x288 with 1 Axes>"
      ]
     },
     "metadata": {
      "needs_background": "light"
     },
     "output_type": "display_data"
    }
   ],
   "source": [
    "sns.boxplot(df2['EU_Sales'])"
   ]
  },
  {
   "cell_type": "markdown",
   "metadata": {
    "colab_type": "text",
    "id": "XHFEynQXYYAT"
   },
   "source": [
    "### Plots de Correlação"
   ]
  },
  {
   "cell_type": "markdown",
   "metadata": {
    "colab_type": "text",
    "id": "sh-5rkWZYYAU"
   },
   "source": [
    "Seu objetivo agora é verificar se as vendas na América do Norte acompanham as vendas na Europa, ou se elas correlacionam-se melhor com as vendas no Japão. Para isso, utilizaremos *scatterplots*. \n",
    "\n",
    "* Utilize Seaborn para plotar o gráfico de dispersão de vendas na Europa por vendas na América do Norte.\n",
    "  * Os marcadores devem se diferenciar pela coloração consoante o **ano de lançamento** do jogo.\n",
    "\n",
    "\n",
    "* Utilize Seaborn para plotar o gráfico de dispersão de vendas no Japão por vendas na América do Norte.\n",
    "  * Os marcadores devem se diferenciar pela coloração consoante o **gênero** do jogo."
   ]
  },
  {
   "cell_type": "markdown",
   "metadata": {
    "colab_type": "text",
    "id": "B_mEmiSYnbvB"
   },
   "source": [
    "***\n",
    "**Observação:** para esses gráficos, utilize o *dataset* original.\n",
    "***"
   ]
  },
  {
   "cell_type": "code",
   "execution_count": 184,
   "metadata": {
    "colab": {},
    "colab_type": "code",
    "id": "Ww0y7L0laLGa",
    "scrolled": true
   },
   "outputs": [
    {
     "data": {
      "text/plain": [
       "<matplotlib.axes._subplots.AxesSubplot at 0x47fe1969c8>"
      ]
     },
     "execution_count": 184,
     "metadata": {},
     "output_type": "execute_result"
    },
    {
     "data": {
      "image/png": "[encoded data removed]",
      "text/plain": [
       "<Figure size 576x432 with 1 Axes>"
      ]
     },
     "metadata": {
      "needs_background": "light"
     },
     "output_type": "display_data"
    }
   ],
   "source": [
    "plt.figure(figsize=(8,6))\n",
    "\n",
    "sns.scatterplot(df[\"NA_Sales\"], df['JP_Sales'], hue=df['Genre'], s=75, edgecolor=None)"
   ]
  },
  {
   "cell_type": "markdown",
   "metadata": {
    "colab_type": "text",
    "id": "db4QPMMtYYAp"
   },
   "source": [
    "Ainda que os dados continuem substancialmente amontados (afinal, temos uma grande quantidade deles), já percebemos que existe uma correlação maior do número de vendas na América do Norte com o número de vendas na Europa. Para verificar isso de fato: através de uma mapa de calor exiba a matriz de correlação do dataset.\n",
    "\n",
    "* Utilize a biblioteca Pandas para criar a matriz de correlação do dataset.\n",
    "\n",
    "* Através da Seaborn plote o *heatmap* da matriz de correlação."
   ]
  },
  {
   "cell_type": "markdown",
   "metadata": {
    "colab_type": "text",
    "id": "Pd5jxBZatcez"
   },
   "source": [
    "***\n",
    "**Dicas:**\n",
    "* Lembre-se de que em uma matriz de correlação os valores oscilam entre -1 e 1;\n",
    "* Utilize o parâmetro `annot=True` para garantir que os valores estejam no interior das células.\n",
    "***"
   ]
  },
  {
   "cell_type": "code",
   "execution_count": 185,
   "metadata": {
    "colab": {},
    "colab_type": "code",
    "id": "4CM89utdYYBI"
   },
   "outputs": [],
   "source": [
    "corr = df.corr()"
   ]
  },
  {
   "cell_type": "code",
   "execution_count": 187,
   "metadata": {},
   "outputs": [
    {
     "data": {
      "text/plain": [
       "<matplotlib.axes._subplots.AxesSubplot at 0x47fe121988>"
      ]
     },
     "execution_count": 187,
     "metadata": {},
     "output_type": "execute_result"
    },
    {
     "data": {
      "image/png": "[encoded data removed]",
      "text/plain": [
       "<Figure size 720x576 with 2 Axes>"
      ]
     },
     "metadata": {
      "needs_background": "light"
     },
     "output_type": "display_data"
    }
   ],
   "source": [
    "plt.figure(figsize=(10, 8))\n",
    "sns.heatmap(corr, vmin=-1, vmax=1, annot=True)"
   ]
  },
  {
   "cell_type": "code",
   "execution_count": 189,
   "metadata": {},
   "outputs": [
    {
     "data": {
      "text/plain": [
       "<matplotlib.axes._subplots.AxesSubplot at 0x47fcbf3e88>"
      ]
     },
     "execution_count": 189,
     "metadata": {},
     "output_type": "execute_result"
    },
    {
     "data": {
      "image/png": "[encoded data removed]",
      "text/plain": [
       "<Figure size 720x576 with 2 Axes>"
      ]
     },
     "metadata": {
      "needs_background": "light"
     },
     "output_type": "display_data"
    }
   ],
   "source": [
    "plt.figure(figsize=(10, 8))\n",
    "sns.heatmap(corr, vmin=-1, vmax=1, annot=True, mask=np.triu(corr))"
   ]
  },
  {
   "cell_type": "code",
   "execution_count": null,
   "metadata": {},
   "outputs": [],
   "source": []
  }
 ],
 "metadata": {
  "colab": {
   "collapsed_sections": [],
   "name": "Aula 2 - Questões.ipynb",
   "provenance": [],
   "toc_visible": true
  },
  "kernelspec": {
   "display_name": "Python 3",
   "language": "python",
   "name": "python3"
  },
  "language_info": {
   "codemirror_mode": {
    "name": "ipython",
    "version": 3
   },
   "file_extension": ".py",
   "mimetype": "text/x-python",
   "name": "python",
   "nbconvert_exporter": "python",
   "pygments_lexer": "ipython3",
   "version": "3.7.6"
  }
 },
 "nbformat": 4,
 "nbformat_minor": 1
}
