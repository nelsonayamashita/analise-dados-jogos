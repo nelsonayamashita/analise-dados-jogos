{
 "cells": [
  {
   "cell_type": "markdown",
   "metadata": {
    "colab_type": "text",
    "id": "9P_NwARXY6Jf"
   },
   "source": [
    "# Turing Academy \n",
    "\n",
    "## Aula 2: Bibliotecas\n",
    "\n",
    "### Questões"
   ]
  },
  {
   "cell_type": "markdown",
   "metadata": {
    "colab_type": "text",
    "id": "cMCklo3DYX7J"
   },
   "source": [
    "Para começar, importe as bibliotecas necessárias (NumPy, Pandas, Matplotlib e Seaborn) com seus \"apelidos\":"
   ]
  },
  {
   "cell_type": "code",
   "execution_count": 0,
   "metadata": {
    "colab": {},
    "colab_type": "code",
    "id": "QR0ceutKYX7O"
   },
   "outputs": [],
   "source": []
  },
  {
   "cell_type": "markdown",
   "metadata": {
    "colab_type": "text",
    "id": "cl_AY8QEYX7c"
   },
   "source": [
    "## Pandas: manipulação de dados em *DataFrames*"
   ]
  },
  {
   "cell_type": "markdown",
   "metadata": {
    "colab_type": "text",
    "id": "Af3JzL72YX7h"
   },
   "source": [
    "Nesse notebook, serão utilizados dois arquivos do tipo **csv**, são eles: `jogos_info.csv`, que contém o nome dos jogos e algumas de suas informações — como ano de lançamento e a *publisher* — e `jogos_vendas.csv`, que também contém o nome dos jogos e o número de vendas. Abra cada um dos arquivos em *dataframes* usando Pandas e junte os dois em um só *dataframe*, que será utilizado para as análises e os gráficos."
   ]
  },
  {
   "cell_type": "code",
   "execution_count": 0,
   "metadata": {
    "colab": {},
    "colab_type": "code",
    "id": "2539l3OrYX7l"
   },
   "outputs": [],
   "source": []
  },
  {
   "cell_type": "markdown",
   "metadata": {
    "colab_type": "text",
    "id": "_9B_wPMQYX8T"
   },
   "source": [
    "Mostre as características do *dataset*: \n",
    "\n",
    "* exiba suas 10 primeiras linhas;\n",
    "* mostre as informações de cada coluna; \n",
    "* descreva as colunas que possuem dados numéricos."
   ]
  },
  {
   "cell_type": "code",
   "execution_count": 0,
   "metadata": {
    "colab": {},
    "colab_type": "code",
    "id": "XbFaJb7qZVMd"
   },
   "outputs": [],
   "source": []
  },
  {
   "cell_type": "markdown",
   "metadata": {
    "colab_type": "text",
    "id": "_eS4CR_6YX9P"
   },
   "source": [
    "Remova as linhas que possuem dados faltantes"
   ]
  },
  {
   "cell_type": "code",
   "execution_count": 0,
   "metadata": {
    "colab": {},
    "colab_type": "code",
    "id": "iLUQLfQbZWzK"
   },
   "outputs": [],
   "source": []
  },
  {
   "cell_type": "markdown",
   "metadata": {
    "colab_type": "text",
    "id": "Gcq3oPacYX9f"
   },
   "source": [
    "Agora, crie no *dataframe* uma coluna que forneça o número de vendas totais, chamada `'Global_Sales'`."
   ]
  },
  {
   "cell_type": "code",
   "execution_count": 0,
   "metadata": {
    "colab": {},
    "colab_type": "code",
    "id": "DuuL21L4YX9i"
   },
   "outputs": [],
   "source": []
  },
  {
   "cell_type": "markdown",
   "metadata": {
    "colab_type": "text",
    "id": "1yIALNUUYX9z"
   },
   "source": [
    "Crie um *dataframe* que contenha os jogos disponíveis para o NES. Mostre a média de vendas globais, o jogo mais popular da plataforma e o menos popular também."
   ]
  },
  {
   "cell_type": "code",
   "execution_count": 0,
   "metadata": {
    "colab": {},
    "colab_type": "code",
    "id": "4txxOYHlZZ06"
   },
   "outputs": [],
   "source": []
  },
  {
   "cell_type": "markdown",
   "metadata": {
    "colab_type": "text",
    "id": "6WrsxNYWYX9_"
   },
   "source": [
    "No *dataframe* original, encontre:\n",
    "\n",
    "* o jogo mais popular do primeiro ano presente nos dados;\n",
    "* o jogo mais popular do último ano também presente nos dados.\n",
    "\n",
    "Além disso, mostre todas as informações disponíveis no *dataframe* para cada um dos jogos acima."
   ]
  },
  {
   "cell_type": "code",
   "execution_count": 0,
   "metadata": {
    "colab": {},
    "colab_type": "code",
    "id": "jt4WUZVHZdqp"
   },
   "outputs": [],
   "source": []
  },
  {
   "cell_type": "code",
   "execution_count": 0,
   "metadata": {
    "colab": {},
    "colab_type": "code",
    "id": "IgDcAvMtZd3g"
   },
   "outputs": [],
   "source": []
  },
  {
   "cell_type": "markdown",
   "metadata": {
    "colab_type": "text",
    "id": "VKgulm_nYX-O"
   },
   "source": [
    "Procure seu jogo favorito. Se encontrá-lo, mostre sua linha do *dataframe*:\n"
   ]
  },
  {
   "cell_type": "code",
   "execution_count": 0,
   "metadata": {
    "colab": {},
    "colab_type": "code",
    "id": "dpPWDcFCZfkR"
   },
   "outputs": [],
   "source": []
  },
  {
   "cell_type": "markdown",
   "metadata": {
    "colab_type": "text",
    "id": "yDq-bl5qYX-l"
   },
   "source": [
    "## Matplotlib e Seaborn: visualização e análise dos dados"
   ]
  },
  {
   "cell_type": "markdown",
   "metadata": {
    "colab_type": "text",
    "id": "P4twH6ivYX-n"
   },
   "source": [
    "Agora, com esse mesmo *dataframe*, vamos visualizar os seus dados e as correlações existentes entre eles — como suas variações ao longo do tempo ou entre países. "
   ]
  },
  {
   "cell_type": "markdown",
   "metadata": {
    "colab_type": "text",
    "id": "HJWCHDWVYX-p"
   },
   "source": [
    "### Gráficos de Linha"
   ]
  },
  {
   "cell_type": "markdown",
   "metadata": {
    "colab_type": "text",
    "id": "QeYu-vXUYX-q"
   },
   "source": [
    "Inicialmente, vamos verificar como se comportaram as vendas globais ao longo das 4 décadas que o dataset cobre. Considerando o fator \"tempo\", é interessante visualizarmos um gráfico de linha.\n",
    "\n",
    "Utilize Seaborn para plotar o gráfico de linha: Vendas globais X Tempo."
   ]
  },
  {
   "cell_type": "code",
   "execution_count": 0,
   "metadata": {
    "colab": {},
    "colab_type": "code",
    "id": "Vv0lyelCZoof"
   },
   "outputs": [],
   "source": []
  },
  {
   "cell_type": "markdown",
   "metadata": {
    "colab_type": "text",
    "id": "8UyCmqk8YX-z"
   },
   "source": [
    "### Plots categóricos"
   ]
  },
  {
   "cell_type": "markdown",
   "metadata": {
    "colab_type": "text",
    "id": "ktfxOrAhYX-0"
   },
   "source": [
    "Agora, vamos verificar o número de vendas por região através de dois gráficos: um gráfico de barras e um gráfico de setores. Para isso, vamos utilizar o jogo **Super Mario Bros.** de 1985.\n",
    "\n",
    "* Utilize Seaborn ou Matplotlib para plotar um gráfico de barras.\n",
    "  * Nele, cada barra deve ser uma região contemplada no dataset (NA, EU, JP e outros) e sua altura fica determinada pela quantidade de vendas.\n",
    "  \n",
    "    \n",
    "* Utilize Matplotlib para plotar um gráfico de setores (*pizza*).\n",
    "  * Nele, cada repartição deve ser uma região contemplada no dataset (NA, EU, JP e outros) e sua área fica determinada pela quantidade relativa de vendas (percentual de vendas).\n",
    "\n",
    "* Não esqueça de melhorar a apresentação do seu gráfico: adicione um título e uma legenda para o eixo y."
   ]
  },
  {
   "cell_type": "markdown",
   "metadata": {
    "colab_type": "text",
    "id": "MQMQRZTMYX-1"
   },
   "source": [
    "***\n",
    "**Dicas:**\n",
    "* Utilizar a Seaborn é um pouco mais intuitivo para o gráfico de barras.\n",
    "* Certifique-se de criar uma legenda para os valores do eixo x — e.g. uma lista com o nome de cada uma das regiões.\n",
    "* Para obter a altura de cada a barra, o método `DataFrame.iloc` é uma boa alternativa.\n",
    "***"
   ]
  },
  {
   "cell_type": "code",
   "execution_count": 0,
   "metadata": {
    "colab": {},
    "colab_type": "code",
    "id": "6h0trvzdZxHX"
   },
   "outputs": [],
   "source": []
  },
  {
   "cell_type": "markdown",
   "metadata": {
    "colab_type": "text",
    "id": "zISpLmV9YX_L"
   },
   "source": [
    "Sua próxima tarefa: condensar informações. Como os dois gráficos anteriores acabam sendo complementares, exiba ambos em uma mesma figura, lado a lado.\n",
    "\n",
    "Utilize Matplotlib para plotar o gráfico de barras e o gráfico de setores lado a lado, em uma mesma figura."
   ]
  },
  {
   "cell_type": "markdown",
   "metadata": {
    "colab_type": "text",
    "id": "JtWnsabathhe"
   },
   "source": [
    "***\n",
    "**Dicas:**\n",
    "* Utilize `plt.subplot()` para criar vários gráficos em uma mesma figura;\n",
    "\n",
    "* Se achar necessário, aumente o tamanho da figura;\n",
    "\n",
    "* Nos subplots, costuma ser mais intuitivo utilizar apenas gráficos da Matplotlib, mas isso não é necessário;\n",
    "\n",
    "* Quando utilizamos *subplots*, alguns comandos (como de título e legenda) passam a ser precedidos por `set_`.\n",
    "  * Isto é: `plt.ylabel()` transforma-se em `ax.set_ylabel()`; sendo `ax` a variável que armazena um determinado *subplot*.\n",
    "***"
   ]
  },
  {
   "cell_type": "code",
   "execution_count": 0,
   "metadata": {
    "colab": {},
    "colab_type": "code",
    "id": "so80SV6UZzdR"
   },
   "outputs": [],
   "source": []
  },
  {
   "cell_type": "markdown",
   "metadata": {
    "colab_type": "text",
    "id": "GxzAJAHTYX_T"
   },
   "source": [
    "### Plots Estatísticos"
   ]
  },
  {
   "cell_type": "markdown",
   "metadata": {
    "colab_type": "text",
    "id": "pOAegcSIYX_U"
   },
   "source": [
    "Utilizando Matplotlib, faça um histograma do número de vendas para `JP_Sales`:"
   ]
  },
  {
   "cell_type": "code",
   "execution_count": 0,
   "metadata": {
    "colab": {},
    "colab_type": "code",
    "id": "19mujzENZ4qI"
   },
   "outputs": [],
   "source": []
  },
  {
   "cell_type": "markdown",
   "metadata": {
    "colab_type": "text",
    "id": "JHX1a--rYX_h"
   },
   "source": [
    "Percebemos então uma grande concentração dos dados. Para ajudar a explicar esse fato, mostre a porcentagem de jogos que passaram de 1 milhão de vendas."
   ]
  },
  {
   "cell_type": "code",
   "execution_count": 0,
   "metadata": {
    "colab": {},
    "colab_type": "code",
    "id": "KoghHCSZZ6dI"
   },
   "outputs": [],
   "source": []
  },
  {
   "cell_type": "markdown",
   "metadata": {
    "colab_type": "text",
    "id": "H9N5-ElrYX_t"
   },
   "source": [
    "Então, para dar mais utilidade aos gráficos, devemos agora recortar nosso *dataset*. Reutilizando os conceitos de *slicing* do NumPy, crie, por meio dos operadores lógicos dessa biblioteca, um **novo *dataframe*** que satisfaça as seguintes condições:\n",
    "  * `NA_Sales < 1`\n",
    "  * `EU_Sales < 0.1`"
   ]
  },
  {
   "cell_type": "markdown",
   "metadata": {
    "colab_type": "text",
    "id": "PX4LizcGl3WO"
   },
   "source": [
    "***\n",
    "**Dica:**\n",
    "* O NumPy introduz funções que atuam como os operadores lógicos (`and`, `or` e outros), mas que são mais abrangentes.\n",
    "***"
   ]
  },
  {
   "cell_type": "code",
   "execution_count": 0,
   "metadata": {
    "colab": {},
    "colab_type": "code",
    "id": "-94K8UE5Z8vg"
   },
   "outputs": [],
   "source": []
  },
  {
   "cell_type": "markdown",
   "metadata": {
    "colab_type": "text",
    "id": "CfTOnO7rYX_8"
   },
   "source": [
    "Finalmente, vamos voltar a olhar para a distribuição dos dados. Considerando esse novo dataset, exiba as curvas de distribuição de densidades para as vendas na América do Norte.\n",
    "\n",
    "Utilize Seaborn para plotar a curva de distribuição de densidades (isto é, o \"histograma suavizado\") para as vendas."
   ]
  },
  {
   "cell_type": "code",
   "execution_count": 0,
   "metadata": {
    "colab": {},
    "colab_type": "code",
    "id": "e3GwrdsyaBVJ"
   },
   "outputs": [],
   "source": []
  },
  {
   "cell_type": "markdown",
   "metadata": {
    "colab_type": "text",
    "id": "8g9cfMehYYAE"
   },
   "source": [
    "Com esse mesmo dataset, podemos verificar uma outra forma de visualizar dados: *boxplot*. Esse plot existe tanto na biblioteca Matplotlib quanto na Seaborn, ficando a sua escolha qual utilizar."
   ]
  },
  {
   "cell_type": "code",
   "execution_count": 0,
   "metadata": {
    "colab": {},
    "colab_type": "code",
    "id": "UJsRXF2daEr2"
   },
   "outputs": [],
   "source": []
  },
  {
   "cell_type": "markdown",
   "metadata": {
    "colab_type": "text",
    "id": "XHFEynQXYYAT"
   },
   "source": [
    "### Plots de Correlação"
   ]
  },
  {
   "cell_type": "markdown",
   "metadata": {
    "colab_type": "text",
    "id": "sh-5rkWZYYAU"
   },
   "source": [
    "Seu objetivo agora é verificar se as vendas na América do Norte acompanham as vendas na Europa, ou se elas correlacionam-se melhor com as vendas no Japão. Para isso, utilizaremos *scatterplots*. \n",
    "\n",
    "* Utilize Seaborn para plotar o gráfico de dispersão de vendas na Europa por vendas na América do Norte.\n",
    "  * Os marcadores devem se diferenciar pela coloração consoante o **ano de lançamento** do jogo.\n",
    "\n",
    "\n",
    "* Utilize Seaborn para plotar o gráfico de dispersão de vendas no Japão por vendas na América do Norte.\n",
    "  * Os marcadores devem se diferenciar pela coloração consoante o **gênero** do jogo."
   ]
  },
  {
   "cell_type": "markdown",
   "metadata": {
    "colab_type": "text",
    "id": "B_mEmiSYnbvB"
   },
   "source": [
    "***\n",
    "**Observação:** para esses gráficos, utilize o *dataset* original.\n",
    "***"
   ]
  },
  {
   "cell_type": "code",
   "execution_count": 0,
   "metadata": {
    "colab": {},
    "colab_type": "code",
    "id": "Ww0y7L0laLGa"
   },
   "outputs": [],
   "source": []
  },
  {
   "cell_type": "markdown",
   "metadata": {
    "colab_type": "text",
    "id": "db4QPMMtYYAp"
   },
   "source": [
    "Ainda que os dados continuem substancialmente amontados (afinal, temos uma grande quantidade deles), já percebemos que existe uma correlação maior do número de vendas na América do Norte com o número de vendas na Europa. Para verificar isso de fato: através de uma mapa de calor exiba a matriz de correlação do dataset.\n",
    "\n",
    "* Utilize a biblioteca Pandas para criar a matriz de correlação do dataset.\n",
    "\n",
    "* Através da Seaborn plote o *heatmap* da matriz de correlação."
   ]
  },
  {
   "cell_type": "markdown",
   "metadata": {
    "colab_type": "text",
    "id": "Pd5jxBZatcez"
   },
   "source": [
    "***\n",
    "**Dicas:**\n",
    "* Lembre-se de que em uma matriz de correlação os valores oscilam entre -1 e 1;\n",
    "* Utilize o parâmetro `annot=True` para garantir que os valores estejam no interior das células.\n",
    "***"
   ]
  },
  {
   "cell_type": "code",
   "execution_count": 0,
   "metadata": {
    "colab": {},
    "colab_type": "code",
    "id": "4CM89utdYYBI"
   },
   "outputs": [],
   "source": []
  }
 ],
 "metadata": {
  "colab": {
   "collapsed_sections": [],
   "name": "Aula 2 - Questões.ipynb",
   "provenance": [],
   "toc_visible": true
  },
  "kernelspec": {
   "display_name": "Python 3",
   "language": "python",
   "name": "python3"
  },
  "language_info": {
   "codemirror_mode": {
    "name": "ipython",
    "version": 3
   },
   "file_extension": ".py",
   "mimetype": "text/x-python",
   "name": "python",
   "nbconvert_exporter": "python",
   "pygments_lexer": "ipython3",
   "version": "3.7.6"
  }
 },
 "nbformat": 4,
 "nbformat_minor": 1
}
